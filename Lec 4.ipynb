{
 "cells": [
  {
   "cell_type": "code",
   "execution_count": 2,
   "id": "08a6455a",
   "metadata": {},
   "outputs": [],
   "source": [
    "from pyspark.sql import SparkSession"
   ]
  },
  {
   "cell_type": "code",
   "execution_count": 6,
   "id": "2d746909",
   "metadata": {},
   "outputs": [],
   "source": [
    "spark=SparkSession.builder.appName('practise').getOrCreate()"
   ]
  },
  {
   "cell_type": "code",
   "execution_count": 7,
   "id": "136bc399",
   "metadata": {},
   "outputs": [
    {
     "data": {
      "text/html": [
       "\n",
       "            <div>\n",
       "                <p><b>SparkSession - in-memory</b></p>\n",
       "                \n",
       "        <div>\n",
       "            <p><b>SparkContext</b></p>\n",
       "\n",
       "            <p><a href=\"http://DESKTOP-N7VI70P:4040\">Spark UI</a></p>\n",
       "\n",
       "            <dl>\n",
       "              <dt>Version</dt>\n",
       "                <dd><code>v3.2.0</code></dd>\n",
       "              <dt>Master</dt>\n",
       "                <dd><code>local[*]</code></dd>\n",
       "              <dt>AppName</dt>\n",
       "                <dd><code>practise</code></dd>\n",
       "            </dl>\n",
       "        </div>\n",
       "        \n",
       "            </div>\n",
       "        "
      ],
      "text/plain": [
       "<pyspark.sql.session.SparkSession at 0x28503d35700>"
      ]
     },
     "execution_count": 7,
     "metadata": {},
     "output_type": "execute_result"
    }
   ],
   "source": [
    "spark\n"
   ]
  },
  {
   "cell_type": "code",
   "execution_count": 10,
   "id": "928bcf40",
   "metadata": {},
   "outputs": [],
   "source": [
    "df_pyspark=spark.read.csv(r'C:\\Users\\Sreejit\\Juypter Projects\\test1.csv',header=True,inferSchema=True)"
   ]
  },
  {
   "cell_type": "code",
   "execution_count": 11,
   "id": "c36b55cf",
   "metadata": {},
   "outputs": [
    {
     "name": "stdout",
     "output_type": "stream",
     "text": [
      "+---------+---+----------+------+\n",
      "|     name|age|experience|salary|\n",
      "+---------+---+----------+------+\n",
      "|     Yash| 17|         6|  5000|\n",
      "|    Aryan| 18|         4|  4000|\n",
      "|Debashish| 19|         3|  3000|\n",
      "|  Pratham| 18|      null|  1000|\n",
      "|     null| 34|        19|  5600|\n",
      "+---------+---+----------+------+\n",
      "\n"
     ]
    }
   ],
   "source": [
    "df_pyspark.show()"
   ]
  },
  {
   "cell_type": "markdown",
   "id": "24f30865",
   "metadata": {},
   "source": [
    "# Filter Operations\n"
   ]
  },
  {
   "cell_type": "code",
   "execution_count": 13,
   "id": "f4af739b",
   "metadata": {},
   "outputs": [
    {
     "name": "stdout",
     "output_type": "stream",
     "text": [
      "+---------+---+----------+------+\n",
      "|     name|age|experience|salary|\n",
      "+---------+---+----------+------+\n",
      "|Debashish| 19|         3|  3000|\n",
      "|  Pratham| 18|      null|  1000|\n",
      "+---------+---+----------+------+\n",
      "\n"
     ]
    }
   ],
   "source": [
    "###salary of the people for whom the salary is lessthan or equal to 3000\n",
    "df_pyspark.filter('salary<=3000').show()"
   ]
  },
  {
   "cell_type": "code",
   "execution_count": 14,
   "id": "b6be9ab3",
   "metadata": {},
   "outputs": [
    {
     "name": "stdout",
     "output_type": "stream",
     "text": [
      "+---------+---+\n",
      "|     name|age|\n",
      "+---------+---+\n",
      "|Debashish| 19|\n",
      "|  Pratham| 18|\n",
      "+---------+---+\n",
      "\n"
     ]
    }
   ],
   "source": [
    "df_pyspark.filter('salary<=3000').select(['name','age']).show()"
   ]
  },
  {
   "cell_type": "code",
   "execution_count": 19,
   "id": "4fd5f601",
   "metadata": {},
   "outputs": [
    {
     "name": "stdout",
     "output_type": "stream",
     "text": [
      "+---------+---+----------+------+\n",
      "|     name|age|experience|salary|\n",
      "+---------+---+----------+------+\n",
      "|Debashish| 19|         3|  3000|\n",
      "+---------+---+----------+------+\n",
      "\n"
     ]
    }
   ],
   "source": [
    "df_pyspark.filter((df_pyspark['salary']<=3000) & \n",
    "                  (df_pyspark[\"salary\"]>1000)).show()"
   ]
  },
  {
   "cell_type": "code",
   "execution_count": null,
   "id": "f2ef8479",
   "metadata": {},
   "outputs": [],
   "source": []
  },
  {
   "cell_type": "code",
   "execution_count": null,
   "id": "a8913f15",
   "metadata": {},
   "outputs": [],
   "source": []
  }
 ],
 "metadata": {
  "kernelspec": {
   "display_name": "Python 3",
   "language": "python",
   "name": "python3"
  },
  "language_info": {
   "codemirror_mode": {
    "name": "ipython",
    "version": 3
   },
   "file_extension": ".py",
   "mimetype": "text/x-python",
   "name": "python",
   "nbconvert_exporter": "python",
   "pygments_lexer": "ipython3",
   "version": "3.8.8"
  }
 },
 "nbformat": 4,
 "nbformat_minor": 5
}
