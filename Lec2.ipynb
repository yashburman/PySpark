{
 "cells": [
  {
   "cell_type": "code",
   "execution_count": 1,
   "id": "58ebe750-82c8-488a-8f0b-b6e93b2b2134",
   "metadata": {},
   "outputs": [],
   "source": [
    "from pyspark.sql import SparkSession"
   ]
  },
  {
   "cell_type": "code",
   "execution_count": 3,
   "id": "de42d536-395d-4ca0-aab1-9ceee5cb040e",
   "metadata": {},
   "outputs": [],
   "source": [
    "spark=SparkSession.builder.appName('Dataframe').getOrCreate()"
   ]
  },
  {
   "cell_type": "code",
   "execution_count": 4,
   "id": "5567d566-525a-4200-bb99-b290a20a6251",
   "metadata": {},
   "outputs": [
    {
     "data": {
      "text/html": [
       "\n",
       "            <div>\n",
       "                <p><b>SparkSession - in-memory</b></p>\n",
       "                \n",
       "        <div>\n",
       "            <p><b>SparkContext</b></p>\n",
       "\n",
       "            <p><a href=\"http://DESKTOP-N7VI70P:4041\">Spark UI</a></p>\n",
       "\n",
       "            <dl>\n",
       "              <dt>Version</dt>\n",
       "                <dd><code>v3.2.0</code></dd>\n",
       "              <dt>Master</dt>\n",
       "                <dd><code>local[*]</code></dd>\n",
       "              <dt>AppName</dt>\n",
       "                <dd><code>Dataframe</code></dd>\n",
       "            </dl>\n",
       "        </div>\n",
       "        \n",
       "            </div>\n",
       "        "
      ],
      "text/plain": [
       "<pyspark.sql.session.SparkSession at 0x2b84dc764f0>"
      ]
     },
     "execution_count": 4,
     "metadata": {},
     "output_type": "execute_result"
    }
   ],
   "source": [
    "spark\n"
   ]
  },
  {
   "cell_type": "code",
   "execution_count": 35,
   "id": "196cdcc2-cbb3-4145-8782-b966d6a7e730",
   "metadata": {},
   "outputs": [],
   "source": [
    "##read the dataset\n",
    "df_pyspark=spark.read.option('header','true').csv(r\"C:\\Users\\Sreejit\\Juypter Projects\\test1.csv\",inferSchema=True)\n"
   ]
  },
  {
   "cell_type": "code",
   "execution_count": 13,
   "id": "eecc2848-e7cb-4106-b5f4-ff418414e370",
   "metadata": {},
   "outputs": [
    {
     "name": "stdout",
     "output_type": "stream",
     "text": [
      "root\n",
      " |-- name: string (nullable = true)\n",
      " |-- age: integer (nullable = true)\n",
      " |-- experience(in months): integer (nullable = true)\n",
      "\n"
     ]
    }
   ],
   "source": [
    "##Check Schema\n",
    "df_pyspark.printSchema()\n"
   ]
  },
  {
   "cell_type": "code",
   "execution_count": 34,
   "id": "463cfc90-72f6-41e3-9bea-849a465d8e55",
   "metadata": {},
   "outputs": [
    {
     "name": "stdout",
     "output_type": "stream",
     "text": [
      "+---------+---+---------------------+\n",
      "|     name|age|experience(in months)|\n",
      "+---------+---+---------------------+\n",
      "|     Yash| 17|                    6|\n",
      "|    Aryan| 18|                    4|\n",
      "|Debashish| 19|                    3|\n",
      "+---------+---+---------------------+\n",
      "\n"
     ]
    }
   ],
   "source": [
    "df_pyspark=spark.read.csv(r\"C:\\Users\\Sreejit\\Juypter Projects\\test1.csv\",header=True,inferSchema=True)\n",
    "df_pyspark.show()"
   ]
  },
  {
   "cell_type": "code",
   "execution_count": 33,
   "id": "1a1e1d53-7f54-41ef-8155-50cbd9602915",
   "metadata": {},
   "outputs": [
    {
     "data": {
      "text/plain": [
       "pyspark.sql.dataframe.DataFrame"
      ]
     },
     "execution_count": 33,
     "metadata": {},
     "output_type": "execute_result"
    }
   ],
   "source": [
    "type(df_pyspark)"
   ]
  },
  {
   "cell_type": "code",
   "execution_count": 16,
   "id": "589cf961-030d-4e98-b76b-a09ee21d3c1b",
   "metadata": {},
   "outputs": [
    {
     "data": {
      "text/plain": [
       "['name', 'age', 'experience(in months)']"
      ]
     },
     "execution_count": 16,
     "metadata": {},
     "output_type": "execute_result"
    }
   ],
   "source": [
    "df_pyspark.columns"
   ]
  },
  {
   "cell_type": "code",
   "execution_count": 17,
   "id": "554835e1-39d6-4e29-a229-9d9ff3fbe2b4",
   "metadata": {},
   "outputs": [
    {
     "data": {
      "text/plain": [
       "[Row(name='Yash', age=17, experience(in months)=6),\n",
       " Row(name='Aryan', age=18, experience(in months)=4),\n",
       " Row(name='Debashish', age=19, experience(in months)=3)]"
      ]
     },
     "execution_count": 17,
     "metadata": {},
     "output_type": "execute_result"
    }
   ],
   "source": [
    "df_pyspark.head(3)"
   ]
  },
  {
   "cell_type": "code",
   "execution_count": 18,
   "id": "a3947e16-fb9f-473e-9589-62b33eb48f5b",
   "metadata": {},
   "outputs": [
    {
     "name": "stdout",
     "output_type": "stream",
     "text": [
      "+---------+---+---------------------+\n",
      "|     name|age|experience(in months)|\n",
      "+---------+---+---------------------+\n",
      "|     Yash| 17|                    6|\n",
      "|    Aryan| 18|                    4|\n",
      "|Debashish| 19|                    3|\n",
      "+---------+---+---------------------+\n",
      "\n"
     ]
    }
   ],
   "source": [
    "df_pyspark.show()"
   ]
  },
  {
   "cell_type": "code",
   "execution_count": 22,
   "id": "4da1a319-5b20-41c8-94d8-137146aa902a",
   "metadata": {},
   "outputs": [
    {
     "name": "stdout",
     "output_type": "stream",
     "text": [
      "+---------+---------------------+\n",
      "|     name|experience(in months)|\n",
      "+---------+---------------------+\n",
      "|     Yash|                    6|\n",
      "|    Aryan|                    4|\n",
      "|Debashish|                    3|\n",
      "+---------+---------------------+\n",
      "\n"
     ]
    }
   ],
   "source": [
    "df_pyspark.select(['name','experience(in months)']).show()"
   ]
  },
  {
   "cell_type": "code",
   "execution_count": 23,
   "id": "8cc008c5-03d4-4cf3-8f95-b6e4589a144a",
   "metadata": {},
   "outputs": [
    {
     "data": {
      "text/plain": [
       "Column<'name'>"
      ]
     },
     "execution_count": 23,
     "metadata": {},
     "output_type": "execute_result"
    }
   ],
   "source": [
    "df_pyspark['name']"
   ]
  },
  {
   "cell_type": "code",
   "execution_count": 24,
   "id": "2ec23f12-0ad5-490d-8e65-8b472dc09b9a",
   "metadata": {},
   "outputs": [
    {
     "data": {
      "text/plain": [
       "[('name', 'string'), ('age', 'int'), ('experience(in months)', 'int')]"
      ]
     },
     "execution_count": 24,
     "metadata": {},
     "output_type": "execute_result"
    }
   ],
   "source": [
    "df_pyspark.dtypes"
   ]
  },
  {
   "cell_type": "code",
   "execution_count": 26,
   "id": "ebad0e85-031e-45c6-b7b2-3edaae2cce4f",
   "metadata": {},
   "outputs": [
    {
     "name": "stdout",
     "output_type": "stream",
     "text": [
      "+-------+-----+----+---------------------+\n",
      "|summary| name| age|experience(in months)|\n",
      "+-------+-----+----+---------------------+\n",
      "|  count|    3|   3|                    3|\n",
      "|   mean| null|18.0|    4.333333333333333|\n",
      "| stddev| null| 1.0|   1.5275252316519468|\n",
      "|    min|Aryan|  17|                    3|\n",
      "|    max| Yash|  19|                    6|\n",
      "+-------+-----+----+---------------------+\n",
      "\n"
     ]
    }
   ],
   "source": [
    "df_pyspark.describe().show()"
   ]
  },
  {
   "cell_type": "code",
   "execution_count": 30,
   "id": "e76de8f6-bdc0-47b6-a3b4-3fc46ce3f664",
   "metadata": {},
   "outputs": [
    {
     "name": "stdout",
     "output_type": "stream",
     "text": [
      "+---------+---+---------------------+-----------------------+\n",
      "|     name|age|experience(in months)|experience after 2years|\n",
      "+---------+---+---------------------+-----------------------+\n",
      "|     Yash| 17|                    6|                      8|\n",
      "|    Aryan| 18|                    4|                      6|\n",
      "|Debashish| 19|                    3|                      5|\n",
      "+---------+---+---------------------+-----------------------+\n",
      "\n"
     ]
    }
   ],
   "source": [
    "## Adding columns in data frames\n",
    "df_pyspark=df_pyspark.withColumn('experience after 2years',df_pyspark['experience(in months)']+2)"
   ]
  },
  {
   "cell_type": "code",
   "execution_count": 36,
   "id": "c9e6c582-bb1c-44f3-891b-68fa502ea1f5",
   "metadata": {},
   "outputs": [
    {
     "data": {
      "text/plain": [
       "DataFrame[name: string, age: int, experience(in months): int]"
      ]
     },
     "execution_count": 36,
     "metadata": {},
     "output_type": "execute_result"
    }
   ],
   "source": [
    "df_pyspark\n"
   ]
  },
  {
   "cell_type": "code",
   "execution_count": 37,
   "id": "7a841e8d-704a-49d1-8852-dce700ebc9c3",
   "metadata": {},
   "outputs": [],
   "source": [
    "## Drop the columns\n",
    "df_pysprk=df_pyspark.drop('experience after 2years')"
   ]
  },
  {
   "cell_type": "code",
   "execution_count": 40,
   "id": "2e06e741-a9b8-4e4a-bf32-06587eb34440",
   "metadata": {},
   "outputs": [
    {
     "data": {
      "text/plain": [
       "DataFrame[name: string, age: int, experience(in months): int]"
      ]
     },
     "execution_count": 40,
     "metadata": {},
     "output_type": "execute_result"
    }
   ],
   "source": [
    "df_pyspark\n"
   ]
  },
  {
   "cell_type": "code",
   "execution_count": 42,
   "id": "406a2bfe-ddf9-440e-a5f7-008470b87b36",
   "metadata": {},
   "outputs": [
    {
     "name": "stdout",
     "output_type": "stream",
     "text": [
      "+---------+---+---------------------+\n",
      "| New Name|age|experience(in months)|\n",
      "+---------+---+---------------------+\n",
      "|     Yash| 17|                    6|\n",
      "|    Aryan| 18|                    4|\n",
      "|Debashish| 19|                    3|\n",
      "+---------+---+---------------------+\n",
      "\n"
     ]
    }
   ],
   "source": [
    "##Renameing data frames\n",
    "df_pyspark.withColumnRenamed('Name','New Name').show()"
   ]
  },
  {
   "cell_type": "code",
   "execution_count": null,
   "id": "9aa100f8-0a65-4098-849a-e7771f33233f",
   "metadata": {},
   "outputs": [],
   "source": []
  }
 ],
 "metadata": {
  "kernelspec": {
   "display_name": "Python 3",
   "language": "python",
   "name": "python3"
  },
  "language_info": {
   "codemirror_mode": {
    "name": "ipython",
    "version": 3
   },
   "file_extension": ".py",
   "mimetype": "text/x-python",
   "name": "python",
   "nbconvert_exporter": "python",
   "pygments_lexer": "ipython3",
   "version": "3.8.8"
  }
 },
 "nbformat": 4,
 "nbformat_minor": 5
}
