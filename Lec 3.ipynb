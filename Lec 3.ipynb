{
 "cells": [
  {
   "cell_type": "code",
   "execution_count": 2,
   "id": "6d23fa41",
   "metadata": {},
   "outputs": [],
   "source": [
    "from pyspark.sql import SparkSession\n",
    "spark=SparkSession.builder.appName('Practice').getOrCreate()"
   ]
  },
  {
   "cell_type": "code",
   "execution_count": 4,
   "id": "e46069ed",
   "metadata": {},
   "outputs": [],
   "source": [
    "df_pyspark=spark.read.csv(r\"C:\\Users\\Sreejit\\Juypter Projects\\test1.csv\",header=True,inferSchema=True)"
   ]
  },
  {
   "cell_type": "code",
   "execution_count": 5,
   "id": "53f5faa2",
   "metadata": {},
   "outputs": [
    {
     "name": "stdout",
     "output_type": "stream",
     "text": [
      "+---------+---+----------+------+\n",
      "|     name|age|experience|salary|\n",
      "+---------+---+----------+------+\n",
      "|     Yash| 17|         6|  5000|\n",
      "|    Aryan| 18|         4|  4000|\n",
      "|Debashish| 19|         3|  3000|\n",
      "|  Pratham| 18|      null|  1000|\n",
      "|     null| 34|        19|  5600|\n",
      "+---------+---+----------+------+\n",
      "\n"
     ]
    }
   ],
   "source": [
    "df_pyspark.show()"
   ]
  },
  {
   "cell_type": "code",
   "execution_count": 6,
   "id": "92d26eb3",
   "metadata": {},
   "outputs": [
    {
     "name": "stdout",
     "output_type": "stream",
     "text": [
      "+---+----------+------+\n",
      "|age|experience|salary|\n",
      "+---+----------+------+\n",
      "| 17|         6|  5000|\n",
      "| 18|         4|  4000|\n",
      "| 19|         3|  3000|\n",
      "| 18|      null|  1000|\n",
      "| 34|        19|  5600|\n",
      "+---+----------+------+\n",
      "\n"
     ]
    }
   ],
   "source": [
    "## Dropping columns\n",
    "df_pyspark.drop('name').show()"
   ]
  },
  {
   "cell_type": "code",
   "execution_count": 7,
   "id": "30b26590",
   "metadata": {},
   "outputs": [
    {
     "name": "stdout",
     "output_type": "stream",
     "text": [
      "+---------+---+----------+------+\n",
      "|     name|age|experience|salary|\n",
      "+---------+---+----------+------+\n",
      "|     Yash| 17|         6|  5000|\n",
      "|    Aryan| 18|         4|  4000|\n",
      "|Debashish| 19|         3|  3000|\n",
      "+---------+---+----------+------+\n",
      "\n"
     ]
    }
   ],
   "source": [
    "##Dropping N.A values\n",
    "df_pyspark.na.drop().show()"
   ]
  },
  {
   "cell_type": "code",
   "execution_count": 8,
   "id": "33ccd282",
   "metadata": {},
   "outputs": [
    {
     "name": "stdout",
     "output_type": "stream",
     "text": [
      "+--------------+---+----------+------+\n",
      "|          name|age|experience|salary|\n",
      "+--------------+---+----------+------+\n",
      "|          Yash| 17|         6|  5000|\n",
      "|         Aryan| 18|         4|  4000|\n",
      "|     Debashish| 19|         3|  3000|\n",
      "|       Pratham| 18|      null|  1000|\n",
      "|Missing Values| 34|        19|  5600|\n",
      "+--------------+---+----------+------+\n",
      "\n"
     ]
    }
   ],
   "source": [
    "## Filling the missing values\n",
    "df_pyspark.na.fill('Missing Values').show()"
   ]
  },
  {
   "cell_type": "code",
   "execution_count": 9,
   "id": "863273c3",
   "metadata": {},
   "outputs": [
    {
     "name": "stdout",
     "output_type": "stream",
     "text": [
      "+---------+---+----------+------+\n",
      "|     name|age|experience|salary|\n",
      "+---------+---+----------+------+\n",
      "|     Yash| 17|         6|  5000|\n",
      "|    Aryan| 18|         4|  4000|\n",
      "|Debashish| 19|         3|  3000|\n",
      "|  Pratham| 18|      null|  1000|\n",
      "|  Missing| 34|        19|  5600|\n",
      "+---------+---+----------+------+\n",
      "\n"
     ]
    }
   ],
   "source": [
    "df_pyspark.na.fill('Missing',[\"name\",\"age\"]).show()"
   ]
  },
  {
   "cell_type": "code",
   "execution_count": 12,
   "id": "f9b0d76e",
   "metadata": {},
   "outputs": [],
   "source": [
    "#imputer function\n",
    "from pyspark.ml.feature import Imputer\n",
    "\n",
    "imputer=Imputer(\n",
    "        inputCols=['experience'],\n",
    "        outputCols=[\"{}_edited\".format(\"experience\")]\n",
    "    ).setStrategy(\"mean\")"
   ]
  },
  {
   "cell_type": "code",
   "execution_count": 13,
   "id": "8498c402",
   "metadata": {},
   "outputs": [
    {
     "name": "stdout",
     "output_type": "stream",
     "text": [
      "+---------+---+----------+------+-----------------+\n",
      "|     name|age|experience|salary|experience_edited|\n",
      "+---------+---+----------+------+-----------------+\n",
      "|     Yash| 17|         6|  5000|                6|\n",
      "|    Aryan| 18|         4|  4000|                4|\n",
      "|Debashish| 19|         3|  3000|                3|\n",
      "|  Pratham| 18|      null|  1000|                8|\n",
      "|     null| 34|        19|  5600|               19|\n",
      "+---------+---+----------+------+-----------------+\n",
      "\n"
     ]
    }
   ],
   "source": [
    "#adding imputed cols to df_pyspark\n",
    "imputer.fit(df_pyspark).transform(df_pyspark).show()"
   ]
  },
  {
   "cell_type": "code",
   "execution_count": null,
   "id": "9d517a34",
   "metadata": {},
   "outputs": [],
   "source": []
  }
 ],
 "metadata": {
  "kernelspec": {
   "display_name": "Python 3",
   "language": "python",
   "name": "python3"
  },
  "language_info": {
   "codemirror_mode": {
    "name": "ipython",
    "version": 3
   },
   "file_extension": ".py",
   "mimetype": "text/x-python",
   "name": "python",
   "nbconvert_exporter": "python",
   "pygments_lexer": "ipython3",
   "version": "3.8.8"
  }
 },
 "nbformat": 4,
 "nbformat_minor": 5
}
